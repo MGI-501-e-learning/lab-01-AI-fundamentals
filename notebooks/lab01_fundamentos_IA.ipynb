{
 "cells": [
  {
   "cell_type": "markdown",
   "id": "2c6b8891",
   "metadata": {},
   "source": [
    "# Fundamentos de la Inteligencia Artificial - Laboratorio de 4 Horas\n",
    "\n",
    "Este cuaderno interactivo está diseñado para enseñar los fundamentos de la IA mediante ejemplos prácticos con Python y scikit-learn."
   ]
  },
  {
   "cell_type": "code",
   "execution_count": null,
   "id": "09841aa9",
   "metadata": {},
   "outputs": [],
   "source": [
    "print(\"¡Bienvenidos al Laboratorio de Fundamentos de IA!\")\n",
    "print(\"En este laboratorio, aprenderás a:\\n- Cargar y explorar datos\\n- Entrenar un modelo de ML\\n- Evaluar su desempeño\\n- Experimentar con mejoras\\n\")"
   ]
  },
  {
   "cell_type": "markdown",
   "id": "5bd750d5",
   "metadata": {},
   "source": [
    "## 1. Carga y Exploración de Datos\n",
    "Usaremos el conjunto de datos *Iris*, que contiene características de flores clasificadas en tres especies."
   ]
  },
  {
   "cell_type": "code",
   "execution_count": null,
   "id": "8b8c1816",
   "metadata": {},
   "outputs": [],
   "source": [
    "import pandas as pd\n",
    "import seaborn as sns\n",
    "import matplotlib.pyplot as plt\n",
    "from sklearn.datasets import load_iris\n",
    "\n",
    "# Cargar el dataset\n",
    "iris = load_iris()\n",
    "df = pd.DataFrame(iris.data, columns=iris.feature_names)\n",
    "df['target'] = iris.target\n",
    "df.head()"
   ]
  },
  {
   "cell_type": "code",
   "execution_count": null,
   "id": "bdf78a39",
   "metadata": {},
   "outputs": [],
   "source": [
    "sns.countplot(x='target', data=df)\n",
    "plt.title(\"Distribución de clases\")\n",
    "plt.show()"
   ]
  },
  {
   "cell_type": "code",
   "execution_count": null,
   "id": "8c927984",
   "metadata": {},
   "outputs": [],
   "source": [
    "sns.pairplot(df, hue='target')\n",
    "plt.show()"
   ]
  },
  {
   "cell_type": "markdown",
   "id": "5560883a",
   "metadata": {},
   "source": [
    "## 2. Construcción de un Clasificador\n",
    "Entrenaremos un modelo de regresión logística para predecir la especie de la flor."
   ]
  },
  {
   "cell_type": "code",
   "execution_count": null,
   "id": "f056a007",
   "metadata": {},
   "outputs": [],
   "source": [
    "from sklearn.model_selection import train_test_split\n",
    "from sklearn.linear_model import LogisticRegression\n",
    "from sklearn.preprocessing import StandardScaler\n",
    "\n",
    "X = df.drop('target', axis=1)\n",
    "y = df['target']\n",
    "\n",
    "X_train, X_test, y_train, y_test = train_test_split(X, y, test_size=0.2, random_state=42)\n",
    "\n",
    "scaler = StandardScaler()\n",
    "X_train_scaled = scaler.fit_transform(X_train)\n",
    "X_test_scaled = scaler.transform(X_test)\n",
    "\n",
    "modelo = LogisticRegression(max_iter=200)\n",
    "modelo.fit(X_train_scaled, y_train)"
   ]
  },
  {
   "cell_type": "markdown",
   "id": "8bea3056",
   "metadata": {},
   "source": [
    "## 3. Evaluación del Modelo\n",
    "Evaluaremos el modelo con métricas estándar de clasificación."
   ]
  },
  {
   "cell_type": "code",
   "execution_count": null,
   "id": "4d7e4f5a",
   "metadata": {},
   "outputs": [],
   "source": [
    "from sklearn.metrics import accuracy_score, confusion_matrix, classification_report\n",
    "\n",
    "predicciones = modelo.predict(X_test_scaled)\n",
    "print(\"Precisión:\", accuracy_score(y_test, predicciones))\n",
    "print(\"\\nReporte de Clasificación:\\n\", classification_report(y_test, predicciones))"
   ]
  },
  {
   "cell_type": "code",
   "execution_count": null,
   "id": "6fbd95e8",
   "metadata": {},
   "outputs": [],
   "source": [
    "cm = confusion_matrix(y_test, predicciones)\n",
    "sns.heatmap(cm, annot=True, fmt='d', cmap='Blues')\n",
    "plt.title(\"Matriz de Confusión\")\n",
    "plt.xlabel(\"Predicción\")\n",
    "plt.ylabel(\"Real\")\n",
    "plt.show()"
   ]
  },
  {
   "cell_type": "markdown",
   "id": "3cfb5dfc",
   "metadata": {},
   "source": [
    "## 4. Experimentación\n",
    "Prueba con diferentes modelos y compara resultados."
   ]
  },
  {
   "cell_type": "code",
   "execution_count": null,
   "id": "4e69931d",
   "metadata": {},
   "outputs": [],
   "source": [
    "from sklearn.tree import DecisionTreeClassifier\n",
    "from sklearn.neighbors import KNeighborsClassifier\n",
    "\n",
    "arbol = DecisionTreeClassifier()\n",
    "arbol.fit(X_train_scaled, y_train)\n",
    "pred_arbol = arbol.predict(X_test_scaled)\n",
    "print(\"Precisión Árbol de Decisión:\", accuracy_score(y_test, pred_arbol))\n",
    "\n",
    "knn = KNeighborsClassifier(n_neighbors=3)\n",
    "knn.fit(X_train_scaled, y_train)\n",
    "pred_knn = knn.predict(X_test_scaled)\n",
    "print(\"Precisión KNN:\", accuracy_score(y_test, pred_knn))"
   ]
  },
  {
   "cell_type": "markdown",
   "id": "f687bb6b",
   "metadata": {},
   "source": [
    "## 5. Reflexión\n",
    "Responde en celdas de texto:\n",
    "- ¿Cuál modelo fue más preciso y por qué?\n",
    "- ¿Cómo podrías mejorar el desempeño?\n",
    "- ¿Qué fue lo más interesante que aprendiste?"
   ]
  },
  {
   "cell_type": "code",
   "execution_count": null,
   "id": "c79a4348",
   "metadata": {},
   "outputs": [],
   "source": [
    "print(\"✅ ¡Laboratorio completo! Reflexiona y guarda tu cuaderno para entregar.\")"
   ]
  }
 ],
 "metadata": {
  "language": "python"
 },
 "nbformat": 4,
 "nbformat_minor": 5
}
